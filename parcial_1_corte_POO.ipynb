{
  "cells": [
    {
      "cell_type": "markdown",
      "metadata": {
        "id": "o6XCQy3iZtVk"
      },
      "source": [
        "1) a partir del siguiente desarrollo construya los metodos agregar usuario y eliminar usuario el cual me permitan agregar un nombre y un password a las listas ya establecidad en el constructor. "
      ]
    },
    {
      "cell_type": "code",
      "execution_count": null,
      "metadata": {
        "id": "ogX8-PMp9_cM"
      },
      "outputs": [],
      "source": []
    },
    {
      "cell_type": "code",
      "execution_count": 73,
      "metadata": {
        "colab": {
          "base_uri": "https://localhost:8080/"
        },
        "id": "Ggl6dx9AO2mc",
        "outputId": "022c007d-382d-4cc6-a27d-d52244f5c528"
      },
      "outputs": [
        {
          "name": "stdout",
          "output_type": "stream",
          "text": [
            "Agenda Personal\n",
            "1. loguearse\n",
            "2. Eliminar usuario\n",
            "3. ver usuario\n",
            "4. salir\n",
            "['sebastian', 'karen', 'jorge', 'hola']\n",
            "[1308, 5555, 666]\n",
            "Agenda Personal\n",
            "1. loguearse\n",
            "2. Eliminar usuario\n",
            "3. ver usuario\n",
            "4. salir\n"
          ]
        },
        {
          "ename": "AttributeError",
          "evalue": "'Password' object has no attribute 'ver_usuarios'",
          "output_type": "error",
          "traceback": [
            "\u001b[1;31m---------------------------------------------------------------------------\u001b[0m",
            "\u001b[1;31mAttributeError\u001b[0m                            Traceback (most recent call last)",
            "\u001b[1;32mc:\\Users\\Sebastian\\Documents\\Clases de programacion\\Parciales\\POO primer corte\\parcial_1_corte_POO.ipynb Cell 3'\u001b[0m in \u001b[0;36m<cell line: 48>\u001b[1;34m()\u001b[0m\n\u001b[0;32m     <a href='vscode-notebook-cell:/c%3A/Users/Sebastian/Documents/Clases%20de%20programacion/Parciales/POO%20primer%20corte/parcial_1_corte_POO.ipynb#ch0000002?line=45'>46</a>\u001b[0m passw\u001b[39m=\u001b[39mPassword()\n\u001b[0;32m     <a href='vscode-notebook-cell:/c%3A/Users/Sebastian/Documents/Clases%20de%20programacion/Parciales/POO%20primer%20corte/parcial_1_corte_POO.ipynb#ch0000002?line=46'>47</a>\u001b[0m passw\u001b[39m.\u001b[39mmenu()\n\u001b[1;32m---> <a href='vscode-notebook-cell:/c%3A/Users/Sebastian/Documents/Clases%20de%20programacion/Parciales/POO%20primer%20corte/parcial_1_corte_POO.ipynb#ch0000002?line=47'>48</a>\u001b[0m passw\u001b[39m.\u001b[39mshow_users()\n",
            "\u001b[1;32mc:\\Users\\Sebastian\\Documents\\Clases de programacion\\Parciales\\POO primer corte\\parcial_1_corte_POO.ipynb Cell 3'\u001b[0m in \u001b[0;36mPassword.show_users\u001b[1;34m(self)\u001b[0m\n\u001b[0;32m     <a href='vscode-notebook-cell:/c%3A/Users/Sebastian/Documents/Clases%20de%20programacion/Parciales/POO%20primer%20corte/parcial_1_corte_POO.ipynb#ch0000002?line=40'>41</a>\u001b[0m \u001b[39mprint\u001b[39m(\u001b[39mself\u001b[39m\u001b[39m.\u001b[39mnombre)\n\u001b[0;32m     <a href='vscode-notebook-cell:/c%3A/Users/Sebastian/Documents/Clases%20de%20programacion/Parciales/POO%20primer%20corte/parcial_1_corte_POO.ipynb#ch0000002?line=41'>42</a>\u001b[0m \u001b[39mprint\u001b[39m(\u001b[39mself\u001b[39m\u001b[39m.\u001b[39mpassword)\n\u001b[1;32m---> <a href='vscode-notebook-cell:/c%3A/Users/Sebastian/Documents/Clases%20de%20programacion/Parciales/POO%20primer%20corte/parcial_1_corte_POO.ipynb#ch0000002?line=42'>43</a>\u001b[0m \u001b[39mself\u001b[39;49m\u001b[39m.\u001b[39;49mmenu()\n",
            "\u001b[1;32mc:\\Users\\Sebastian\\Documents\\Clases de programacion\\Parciales\\POO primer corte\\parcial_1_corte_POO.ipynb Cell 3'\u001b[0m in \u001b[0;36mPassword.menu\u001b[1;34m(self)\u001b[0m\n\u001b[0;32m     <a href='vscode-notebook-cell:/c%3A/Users/Sebastian/Documents/Clases%20de%20programacion/Parciales/POO%20primer%20corte/parcial_1_corte_POO.ipynb#ch0000002?line=23'>24</a>\u001b[0m   \u001b[39mself\u001b[39m\u001b[39m.\u001b[39meliminar_usuario()\n\u001b[0;32m     <a href='vscode-notebook-cell:/c%3A/Users/Sebastian/Documents/Clases%20de%20programacion/Parciales/POO%20primer%20corte/parcial_1_corte_POO.ipynb#ch0000002?line=24'>25</a>\u001b[0m \u001b[39melif\u001b[39;00m opcion\u001b[39m==\u001b[39m\u001b[39m3\u001b[39m:\n\u001b[1;32m---> <a href='vscode-notebook-cell:/c%3A/Users/Sebastian/Documents/Clases%20de%20programacion/Parciales/POO%20primer%20corte/parcial_1_corte_POO.ipynb#ch0000002?line=25'>26</a>\u001b[0m   \u001b[39mself\u001b[39;49m\u001b[39m.\u001b[39;49mver_usuarios()\n\u001b[0;32m     <a href='vscode-notebook-cell:/c%3A/Users/Sebastian/Documents/Clases%20de%20programacion/Parciales/POO%20primer%20corte/parcial_1_corte_POO.ipynb#ch0000002?line=26'>27</a>\u001b[0m \u001b[39melif\u001b[39;00m opcion\u001b[39m==\u001b[39m\u001b[39m4\u001b[39m:\n\u001b[0;32m     <a href='vscode-notebook-cell:/c%3A/Users/Sebastian/Documents/Clases%20de%20programacion/Parciales/POO%20primer%20corte/parcial_1_corte_POO.ipynb#ch0000002?line=27'>28</a>\u001b[0m   \u001b[39mprint\u001b[39m(\u001b[39m\"\u001b[39m\u001b[39mSaliendo ...\u001b[39m\u001b[39m\"\u001b[39m)\n",
            "\u001b[1;31mAttributeError\u001b[0m: 'Password' object has no attribute 'ver_usuarios'"
          ]
        }
      ],
      "source": [
        "class Password:\n",
        "  def __init__(self):\n",
        "    self.nombre=[\"sebastian\",\"karen\",\"jorge\"]\n",
        "    self.password=[1308,5555,666]\n",
        "\n",
        "  def menu(self):\n",
        "\n",
        "    menu=[\n",
        "        ['Agenda Personal'],\n",
        "        ['1. loguearse',\"anadir\"],\n",
        "        ['2. Eliminar usuario'],\n",
        "        ['3. ver usuario'],\n",
        "        ['4. salir']\n",
        "    ]\n",
        "\n",
        "    for x in range(5):\n",
        "     print(menu[x][0])\n",
        "\n",
        "    opcion=int(input(\"Introduzca la opción deseada: \"))\n",
        "\n",
        "    if opcion==1:\n",
        "      self.agregar_usuario()\n",
        "    elif opcion==2:\n",
        "      self.eliminar_usuario()\n",
        "    elif opcion==3:\n",
        "      self.ver_usuarios()\n",
        "    elif opcion==4:\n",
        "      print(\"Saliendo ...\")\n",
        "      exit()\n",
        "\n",
        "\n",
        "  def agregar_usuario(self):\n",
        "    self.add=(str(input(\"añada un usuario: \")))\n",
        "    self.agregar_usuario=self.nombre.append(self.add)\n",
        "\n",
        "  def eliminar_usuario(self):\n",
        "    self.delete=(str(input(\"Borre su usuario: \")))\n",
        "    self.eliminar_usuario=self.nombre.pop()\n",
        "\n",
        "  def show_users(self):\n",
        "    print(self.nombre)\n",
        "    print(self.password)\n",
        "    self.menu()\n",
        "\n",
        "\n",
        "passw=Password()\n",
        "passw.menu()\n",
        "passw.show_users()"
      ]
    },
    {
      "cell_type": "markdown",
      "metadata": {
        "id": "vhlx04aCas1y"
      },
      "source": [
        "2) implementar un desarrollo que solicite nombre y edad, por ultimo me indique si es mayor o menor de edad, ojo 18 años ya es mayor (USE EL PARADIGMA DE PROGRAMACION ORIENTADA A OBJETOS)"
      ]
    },
    {
      "cell_type": "code",
      "execution_count": 59,
      "metadata": {
        "id": "a6vvk_JoeJEG"
      },
      "outputs": [
        {
          "name": "stdout",
          "output_type": "stream",
          "text": [
            "ou la persona es menor de edad, que lastima\n",
            "sebastian\n",
            "17\n"
          ]
        }
      ],
      "source": [
        "#INICIA AQUI\n",
        "class personita:\n",
        "    def __init__(self):\n",
        "      self.nombre_random=input(\"Por favor ingresa el nombre de una persona al azar: \")\n",
        "      self.edad=int(input(\"Te gustaria saber si una persona es mayor de edad? compruebalo ahora mismo escribiendo su edad \"))\n",
        "    def edad_random(self):\n",
        "     if self.edad >= 18:\n",
        "         print(\"La persona es mayor de edad, felicidades ahora lo sabes\")\n",
        "     else:\n",
        "       print(\"ou la persona es menor de edad, que lastima\")\n",
        "\n",
        "       print(self.nombre_random)\n",
        "       print(self.edad)\n",
        "\n",
        "Nombres=personita()\n",
        "Nombres.edad_random()\n",
        "#EXITOS"
      ]
    },
    {
      "cell_type": "markdown",
      "metadata": {
        "id": "-IIGbqHzeNmR"
      },
      "source": [
        "3) En el hotel Guamúchil se tienen los datos de los huéspedes. Por cada huésped se tiene: el nombre, el tipo de habitación (1, 2, 3, 4, 5) y la cantidad de días que la ocupó; se hace un descuento del 10% si el cliente se hospeda más de 5 días, del 15% si se hospeda más de 10 días y del 20% si se hospeda más de 15 días; de acuerdo al tipo de habitación se tienen las tarifas: \n",
        "\n",
        "Tipo habitación                     Tarifa diaria \n",
        "         1                             120.000 \n",
        "         2                             155.000\n",
        "         3                             210.000\n",
        "         4                             285.000 \n",
        "         5                             400.000\n",
        "\n",
        "Mostrar a la salida el costo de su servicio (USE EL PARADIGMA DE PROGRAMACION ORIENTADA A OBJETOS)"
      ]
    },
    {
      "cell_type": "code",
      "execution_count": null,
      "metadata": {
        "id": "lVx2jEsJfpfO"
      },
      "outputs": [],
      "source": [
        "#INICIA AQUI\n",
        "\n",
        "\n",
        "\n",
        "\n",
        "\n",
        "#EXITOS"
      ]
    },
    {
      "cell_type": "markdown",
      "metadata": {
        "id": "6FxfcwpehLDc"
      },
      "source": [
        "4) Desarrolle un programa que me permita solicitar el nombre y la nota del Alumno, mostrando en pantalla los datos dados y posteriormente evaluar la nota, si el alumno tiene una nota superior o igual a 3.5 pasa por lo contrario pierde. (USE EL PARADIGMA DE PROGRAMACION ORIENTADA A OBJETOS)"
      ]
    },
    {
      "cell_type": "code",
      "execution_count": 33,
      "metadata": {
        "id": "0kgYT5RWidBV"
      },
      "outputs": [
        {
          "name": "stdout",
          "output_type": "stream",
          "text": [
            "Uy no como asi hermano :( perdio la materia lo van a castigar\n"
          ]
        }
      ],
      "source": [
        "#INICIA AQUI\n",
        "class Alumno:\n",
        "    def __init__(self):\n",
        "        self.nombre=input(\"Por favor escribe el nombre del estudiante: \")\n",
        "        self.nota=float(input(\"Escriba la nota del estudiante: \"))\n",
        "    def calificacion(self):\n",
        "        if self.nota >= 3.5:\n",
        "            print(\"Muchas felicidades, pasaste la materia crack! \")\n",
        "        else:\n",
        "            print(\"Uy no como asi hermano :( perdio la materia lo van a castigar\")\n",
        "    \n",
        "Alummno=Alumno()\n",
        "Alummno.calificacion()\n",
        "\n",
        "\n",
        "\n",
        "#EXITOS"
      ]
    }
  ],
  "metadata": {
    "colab": {
      "collapsed_sections": [],
      "name": "parcial_1_corte_POO.ipynb",
      "provenance": []
    },
    "kernelspec": {
      "display_name": "Python 3",
      "name": "python3"
    },
    "language_info": {
      "codemirror_mode": {
        "name": "ipython",
        "version": 3
      },
      "file_extension": ".py",
      "mimetype": "text/x-python",
      "name": "python",
      "nbconvert_exporter": "python",
      "pygments_lexer": "ipython3",
      "version": "3.10.2"
    }
  },
  "nbformat": 4,
  "nbformat_minor": 0
}
